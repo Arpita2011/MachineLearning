{
 "cells": [
  {
   "cell_type": "code",
   "execution_count": 1,
   "metadata": {
    "collapsed": true
   },
   "outputs": [],
   "source": [
    "import pandas as pd"
   ]
  },
  {
   "cell_type": "code",
   "execution_count": 52,
   "metadata": {},
   "outputs": [],
   "source": [
    "from sklearn.ensemble import RandomForestRegressor \n",
    "from sklearn.metrics import  mean_squared_error\n",
    "import numpy as np"
   ]
  },
  {
   "cell_type": "code",
   "execution_count": 26,
   "metadata": {
    "collapsed": true
   },
   "outputs": [],
   "source": [
    "cdsSpread_data = pd.read_stata(\"C:\\\\Users\\\\Arpita\\\\Desktop\\\\Book\\\\Fall 2018\\\\Machine Learning\\\\Assignment\\\\cds_spread5y_2001_2016.dta\")\n"
   ]
  },
  {
   "cell_type": "code",
   "execution_count": 27,
   "metadata": {},
   "outputs": [
    {
     "data": {
      "text/plain": [
       "(169043, 9)"
      ]
     },
     "execution_count": 27,
     "metadata": {},
     "output_type": "execute_result"
    }
   ],
   "source": [
    "cdsSpread_data.shape"
   ]
  },
  {
   "cell_type": "code",
   "execution_count": 28,
   "metadata": {},
   "outputs": [
    {
     "data": {
      "text/plain": [
       "gvkey                    object\n",
       "mdate            datetime64[ns]\n",
       "redcode                  object\n",
       "tier                     object\n",
       "ticker                   object\n",
       "shortname                object\n",
       "docclause                object\n",
       "spread5y                float64\n",
       "impliedrating            object\n",
       "dtype: object"
      ]
     },
     "execution_count": 28,
     "metadata": {},
     "output_type": "execute_result"
    }
   ],
   "source": [
    "cdsSpread_data.dtypes"
   ]
  },
  {
   "cell_type": "code",
   "execution_count": 29,
   "metadata": {},
   "outputs": [
    {
     "data": {
      "text/html": [
       "<div>\n",
       "<style scoped>\n",
       "    .dataframe tbody tr th:only-of-type {\n",
       "        vertical-align: middle;\n",
       "    }\n",
       "\n",
       "    .dataframe tbody tr th {\n",
       "        vertical-align: top;\n",
       "    }\n",
       "\n",
       "    .dataframe thead th {\n",
       "        text-align: right;\n",
       "    }\n",
       "</style>\n",
       "<table border=\"1\" class=\"dataframe\">\n",
       "  <thead>\n",
       "    <tr style=\"text-align: right;\">\n",
       "      <th></th>\n",
       "      <th>gvkey</th>\n",
       "      <th>mdate</th>\n",
       "      <th>redcode</th>\n",
       "      <th>tier</th>\n",
       "      <th>ticker</th>\n",
       "      <th>shortname</th>\n",
       "      <th>docclause</th>\n",
       "      <th>spread5y</th>\n",
       "      <th>impliedrating</th>\n",
       "    </tr>\n",
       "  </thead>\n",
       "  <tbody>\n",
       "    <tr>\n",
       "      <th>0</th>\n",
       "      <td>001038</td>\n",
       "      <td>2004-08-31</td>\n",
       "      <td>0A17CF</td>\n",
       "      <td>SNRFOR</td>\n",
       "      <td>AEN</td>\n",
       "      <td>AMC Entmt Inc</td>\n",
       "      <td>MR</td>\n",
       "      <td>0.042000</td>\n",
       "      <td>BB</td>\n",
       "    </tr>\n",
       "    <tr>\n",
       "      <th>1</th>\n",
       "      <td>001038</td>\n",
       "      <td>2005-08-31</td>\n",
       "      <td>0A17CF</td>\n",
       "      <td>SNRFOR</td>\n",
       "      <td>AEN</td>\n",
       "      <td>AMC Entmt Inc</td>\n",
       "      <td>XR</td>\n",
       "      <td>0.034000</td>\n",
       "      <td>BB</td>\n",
       "    </tr>\n",
       "    <tr>\n",
       "      <th>2</th>\n",
       "      <td>001038</td>\n",
       "      <td>2005-09-30</td>\n",
       "      <td>0A17CF</td>\n",
       "      <td>SNRFOR</td>\n",
       "      <td>AEN</td>\n",
       "      <td>AMC Entmt Inc</td>\n",
       "      <td>XR</td>\n",
       "      <td>0.034000</td>\n",
       "      <td>BB</td>\n",
       "    </tr>\n",
       "    <tr>\n",
       "      <th>3</th>\n",
       "      <td>001038</td>\n",
       "      <td>2005-10-31</td>\n",
       "      <td>0A17CF</td>\n",
       "      <td>SNRFOR</td>\n",
       "      <td>AEN</td>\n",
       "      <td>AMC Entmt Inc</td>\n",
       "      <td>XR</td>\n",
       "      <td>0.034001</td>\n",
       "      <td>BB</td>\n",
       "    </tr>\n",
       "    <tr>\n",
       "      <th>4</th>\n",
       "      <td>001038</td>\n",
       "      <td>2005-11-30</td>\n",
       "      <td>0A17CF</td>\n",
       "      <td>SNRFOR</td>\n",
       "      <td>AEN</td>\n",
       "      <td>AMC Entmt Inc</td>\n",
       "      <td>XR</td>\n",
       "      <td>0.034001</td>\n",
       "      <td>BB</td>\n",
       "    </tr>\n",
       "  </tbody>\n",
       "</table>\n",
       "</div>"
      ],
      "text/plain": [
       "    gvkey      mdate redcode    tier ticker      shortname docclause  \\\n",
       "0  001038 2004-08-31  0A17CF  SNRFOR    AEN  AMC Entmt Inc        MR   \n",
       "1  001038 2005-08-31  0A17CF  SNRFOR    AEN  AMC Entmt Inc        XR   \n",
       "2  001038 2005-09-30  0A17CF  SNRFOR    AEN  AMC Entmt Inc        XR   \n",
       "3  001038 2005-10-31  0A17CF  SNRFOR    AEN  AMC Entmt Inc        XR   \n",
       "4  001038 2005-11-30  0A17CF  SNRFOR    AEN  AMC Entmt Inc        XR   \n",
       "\n",
       "   spread5y impliedrating  \n",
       "0  0.042000            BB  \n",
       "1  0.034000            BB  \n",
       "2  0.034000            BB  \n",
       "3  0.034001            BB  \n",
       "4  0.034001            BB  "
      ]
     },
     "execution_count": 29,
     "metadata": {},
     "output_type": "execute_result"
    }
   ],
   "source": [
    "cdsSpread_data.head()"
   ]
  },
  {
   "cell_type": "code",
   "execution_count": 30,
   "metadata": {
    "collapsed": true
   },
   "outputs": [],
   "source": [
    "#Seperate date based on month & years and create quarters accordingly \n",
    "cdsSpread_data['Date'] = pd.to_datetime(cdsSpread_data['mdate'])\n",
    "cdsSpread_data['Month']= cdsSpread_data['Date'].dt.month\n",
    "cdsSpread_data['Year']=cdsSpread_data['Date'].dt.year\n",
    "\n",
    "cdsSpread_data['quarter']='4'\n"
   ]
  },
  {
   "cell_type": "code",
   "execution_count": 31,
   "metadata": {
    "collapsed": true
   },
   "outputs": [],
   "source": [
    "cdsSpread_data.loc[cdsSpread_data['Month']>9,\"quarter\"]=4\n",
    "cdsSpread_data.loc[(cdsSpread_data['Month']>6) & (cdsSpread_data['Month']<=9),\"quarter\"]=3\n",
    "cdsSpread_data.loc[(cdsSpread_data['Month']>3) & (cdsSpread_data['Month']<=6),\"quarter\"]=2\n",
    "cdsSpread_data.loc[(cdsSpread_data['Month'])<=3,\"quarter\"]=1"
   ]
  },
  {
   "cell_type": "code",
   "execution_count": 32,
   "metadata": {
    "collapsed": true
   },
   "outputs": [],
   "source": [
    "cdsSpread_data['gvkey'] = cdsSpread_data['gvkey'].astype(float)\n",
    "cdsSpread_data['quarter'] = cdsSpread_data['quarter'].astype(float)\n",
    "cdsSpread_data['Year'] = cdsSpread_data['Year'].astype(float)"
   ]
  },
  {
   "cell_type": "code",
   "execution_count": 33,
   "metadata": {
    "collapsed": true
   },
   "outputs": [],
   "source": [
    "qtr_Mdata = pd.read_csv(\"C:\\\\Users\\\\Arpita\\\\Downloads\\\\Quarterly Merged CRSP-Compustat.csv\", low_memory = False)"
   ]
  },
  {
   "cell_type": "code",
   "execution_count": 34,
   "metadata": {},
   "outputs": [
    {
     "data": {
      "text/plain": [
       "(58928, 687)"
      ]
     },
     "execution_count": 34,
     "metadata": {},
     "output_type": "execute_result"
    }
   ],
   "source": [
    "qtr_Mdata.shape"
   ]
  },
  {
   "cell_type": "code",
   "execution_count": 35,
   "metadata": {},
   "outputs": [
    {
     "data": {
      "text/plain": [
       "GVKEY          int64\n",
       "LINKPRIM      object\n",
       "LIID          object\n",
       "LINKTYPE      object\n",
       "LPERMNO        int64\n",
       "LPERMCO        int64\n",
       "LINKDT        object\n",
       "LINKENDDT     object\n",
       "datadate      object\n",
       "fyearq         int64\n",
       "fqtr           int64\n",
       "fyr            int64\n",
       "indfmt        object\n",
       "consol        object\n",
       "popsrc        object\n",
       "datafmt       object\n",
       "tic           object\n",
       "cusip         object\n",
       "conm          object\n",
       "acctchgq      object\n",
       "acctstdq      object\n",
       "adrrq        float64\n",
       "ajexq        float64\n",
       "ajpq         float64\n",
       "bsprq         object\n",
       "compstq       object\n",
       "curcdq        object\n",
       "curncdq       object\n",
       "currtrq      float64\n",
       "curuscnq     float64\n",
       "              ...   \n",
       "addzip        object\n",
       "busdesc       object\n",
       "city          object\n",
       "conml         object\n",
       "county        object\n",
       "dlrsn        float64\n",
       "ein           object\n",
       "fax           object\n",
       "fyrc           int64\n",
       "ggroup         int64\n",
       "gind           int64\n",
       "gsector        int64\n",
       "gsubind        int64\n",
       "idbflag       object\n",
       "incorp        object\n",
       "loc           object\n",
       "naics          int64\n",
       "phone         object\n",
       "prican        object\n",
       "prirow        object\n",
       "priusa         int64\n",
       "sic            int64\n",
       "spcindcd     float64\n",
       "spcseccd     float64\n",
       "spcsrc        object\n",
       "state         object\n",
       "stko         float64\n",
       "weburl        object\n",
       "dldte         object\n",
       "ipodate       object\n",
       "Length: 687, dtype: object"
      ]
     },
     "execution_count": 35,
     "metadata": {},
     "output_type": "execute_result"
    }
   ],
   "source": [
    "qtr_Mdata.dtypes"
   ]
  },
  {
   "cell_type": "code",
   "execution_count": 36,
   "metadata": {},
   "outputs": [
    {
     "data": {
      "text/html": [
       "<div>\n",
       "<style scoped>\n",
       "    .dataframe tbody tr th:only-of-type {\n",
       "        vertical-align: middle;\n",
       "    }\n",
       "\n",
       "    .dataframe tbody tr th {\n",
       "        vertical-align: top;\n",
       "    }\n",
       "\n",
       "    .dataframe thead th {\n",
       "        text-align: right;\n",
       "    }\n",
       "</style>\n",
       "<table border=\"1\" class=\"dataframe\">\n",
       "  <thead>\n",
       "    <tr style=\"text-align: right;\">\n",
       "      <th></th>\n",
       "      <th>GVKEY</th>\n",
       "      <th>LINKPRIM</th>\n",
       "      <th>LIID</th>\n",
       "      <th>LINKTYPE</th>\n",
       "      <th>LPERMNO</th>\n",
       "      <th>LPERMCO</th>\n",
       "      <th>LINKDT</th>\n",
       "      <th>LINKENDDT</th>\n",
       "      <th>datadate</th>\n",
       "      <th>fyearq</th>\n",
       "      <th>...</th>\n",
       "      <th>priusa</th>\n",
       "      <th>sic</th>\n",
       "      <th>spcindcd</th>\n",
       "      <th>spcseccd</th>\n",
       "      <th>spcsrc</th>\n",
       "      <th>state</th>\n",
       "      <th>stko</th>\n",
       "      <th>weburl</th>\n",
       "      <th>dldte</th>\n",
       "      <th>ipodate</th>\n",
       "    </tr>\n",
       "  </thead>\n",
       "  <tbody>\n",
       "    <tr>\n",
       "      <th>0</th>\n",
       "      <td>1038</td>\n",
       "      <td>P</td>\n",
       "      <td>01</td>\n",
       "      <td>LU</td>\n",
       "      <td>66413</td>\n",
       "      <td>6301</td>\n",
       "      <td>08/18/1983</td>\n",
       "      <td>12/31/2004</td>\n",
       "      <td>03/31/2001</td>\n",
       "      <td>2000</td>\n",
       "      <td>...</td>\n",
       "      <td>1</td>\n",
       "      <td>7830</td>\n",
       "      <td>245.0</td>\n",
       "      <td>978.0</td>\n",
       "      <td>NaN</td>\n",
       "      <td>MO</td>\n",
       "      <td>0.0</td>\n",
       "      <td>www.amctheatres.com</td>\n",
       "      <td>12/27/2004</td>\n",
       "      <td>NaN</td>\n",
       "    </tr>\n",
       "    <tr>\n",
       "      <th>1</th>\n",
       "      <td>1038</td>\n",
       "      <td>P</td>\n",
       "      <td>01</td>\n",
       "      <td>LU</td>\n",
       "      <td>66413</td>\n",
       "      <td>6301</td>\n",
       "      <td>08/18/1983</td>\n",
       "      <td>12/31/2004</td>\n",
       "      <td>06/30/2001</td>\n",
       "      <td>2001</td>\n",
       "      <td>...</td>\n",
       "      <td>1</td>\n",
       "      <td>7830</td>\n",
       "      <td>245.0</td>\n",
       "      <td>978.0</td>\n",
       "      <td>NaN</td>\n",
       "      <td>MO</td>\n",
       "      <td>0.0</td>\n",
       "      <td>www.amctheatres.com</td>\n",
       "      <td>12/27/2004</td>\n",
       "      <td>NaN</td>\n",
       "    </tr>\n",
       "    <tr>\n",
       "      <th>2</th>\n",
       "      <td>1038</td>\n",
       "      <td>P</td>\n",
       "      <td>01</td>\n",
       "      <td>LU</td>\n",
       "      <td>66413</td>\n",
       "      <td>6301</td>\n",
       "      <td>08/18/1983</td>\n",
       "      <td>12/31/2004</td>\n",
       "      <td>09/30/2001</td>\n",
       "      <td>2001</td>\n",
       "      <td>...</td>\n",
       "      <td>1</td>\n",
       "      <td>7830</td>\n",
       "      <td>245.0</td>\n",
       "      <td>978.0</td>\n",
       "      <td>NaN</td>\n",
       "      <td>MO</td>\n",
       "      <td>0.0</td>\n",
       "      <td>www.amctheatres.com</td>\n",
       "      <td>12/27/2004</td>\n",
       "      <td>NaN</td>\n",
       "    </tr>\n",
       "    <tr>\n",
       "      <th>3</th>\n",
       "      <td>1038</td>\n",
       "      <td>P</td>\n",
       "      <td>01</td>\n",
       "      <td>LU</td>\n",
       "      <td>66413</td>\n",
       "      <td>6301</td>\n",
       "      <td>08/18/1983</td>\n",
       "      <td>12/31/2004</td>\n",
       "      <td>12/31/2001</td>\n",
       "      <td>2001</td>\n",
       "      <td>...</td>\n",
       "      <td>1</td>\n",
       "      <td>7830</td>\n",
       "      <td>245.0</td>\n",
       "      <td>978.0</td>\n",
       "      <td>NaN</td>\n",
       "      <td>MO</td>\n",
       "      <td>0.0</td>\n",
       "      <td>www.amctheatres.com</td>\n",
       "      <td>12/27/2004</td>\n",
       "      <td>NaN</td>\n",
       "    </tr>\n",
       "    <tr>\n",
       "      <th>4</th>\n",
       "      <td>1038</td>\n",
       "      <td>P</td>\n",
       "      <td>01</td>\n",
       "      <td>LU</td>\n",
       "      <td>66413</td>\n",
       "      <td>6301</td>\n",
       "      <td>08/18/1983</td>\n",
       "      <td>12/31/2004</td>\n",
       "      <td>03/31/2002</td>\n",
       "      <td>2001</td>\n",
       "      <td>...</td>\n",
       "      <td>1</td>\n",
       "      <td>7830</td>\n",
       "      <td>245.0</td>\n",
       "      <td>978.0</td>\n",
       "      <td>NaN</td>\n",
       "      <td>MO</td>\n",
       "      <td>0.0</td>\n",
       "      <td>www.amctheatres.com</td>\n",
       "      <td>12/27/2004</td>\n",
       "      <td>NaN</td>\n",
       "    </tr>\n",
       "  </tbody>\n",
       "</table>\n",
       "<p>5 rows × 687 columns</p>\n",
       "</div>"
      ],
      "text/plain": [
       "   GVKEY LINKPRIM LIID LINKTYPE  LPERMNO  LPERMCO      LINKDT   LINKENDDT  \\\n",
       "0   1038        P   01       LU    66413     6301  08/18/1983  12/31/2004   \n",
       "1   1038        P   01       LU    66413     6301  08/18/1983  12/31/2004   \n",
       "2   1038        P   01       LU    66413     6301  08/18/1983  12/31/2004   \n",
       "3   1038        P   01       LU    66413     6301  08/18/1983  12/31/2004   \n",
       "4   1038        P   01       LU    66413     6301  08/18/1983  12/31/2004   \n",
       "\n",
       "     datadate  fyearq   ...    priusa   sic spcindcd spcseccd spcsrc state  \\\n",
       "0  03/31/2001    2000   ...         1  7830    245.0    978.0    NaN    MO   \n",
       "1  06/30/2001    2001   ...         1  7830    245.0    978.0    NaN    MO   \n",
       "2  09/30/2001    2001   ...         1  7830    245.0    978.0    NaN    MO   \n",
       "3  12/31/2001    2001   ...         1  7830    245.0    978.0    NaN    MO   \n",
       "4  03/31/2002    2001   ...         1  7830    245.0    978.0    NaN    MO   \n",
       "\n",
       "  stko               weburl       dldte ipodate  \n",
       "0  0.0  www.amctheatres.com  12/27/2004     NaN  \n",
       "1  0.0  www.amctheatres.com  12/27/2004     NaN  \n",
       "2  0.0  www.amctheatres.com  12/27/2004     NaN  \n",
       "3  0.0  www.amctheatres.com  12/27/2004     NaN  \n",
       "4  0.0  www.amctheatres.com  12/27/2004     NaN  \n",
       "\n",
       "[5 rows x 687 columns]"
      ]
     },
     "execution_count": 36,
     "metadata": {},
     "output_type": "execute_result"
    }
   ],
   "source": [
    "qtr_Mdata.head()"
   ]
  },
  {
   "cell_type": "code",
   "execution_count": 37,
   "metadata": {
    "collapsed": true
   },
   "outputs": [],
   "source": [
    "qtr_Mdata=qtr_Mdata.rename(columns = {'GVKEY':'gvkey'})\n",
    "qtr_Mdata=qtr_Mdata.rename(columns = {'datadate':'mdate'})"
   ]
  },
  {
   "cell_type": "code",
   "execution_count": 49,
   "metadata": {},
   "outputs": [
    {
     "data": {
      "text/plain": [
       "array(['03/31/2001', '06/30/2001', '09/30/2001', '12/31/2001',\n",
       "       '03/31/2002', '06/30/2002', '09/30/2002', '12/31/2002',\n",
       "       '03/31/2003', '06/30/2003', '09/30/2003', '12/31/2003',\n",
       "       '03/31/2004', '06/30/2004', '09/30/2004', '12/31/2004',\n",
       "       '03/31/2005', '06/30/2005', '09/30/2005', '12/31/2005',\n",
       "       '03/31/2006', '06/30/2006', '09/30/2006', '12/31/2006',\n",
       "       '03/31/2007', '06/30/2007', '09/30/2007', '12/31/2007',\n",
       "       '03/31/2008', '06/30/2008', '09/30/2008', '12/31/2008',\n",
       "       '03/31/2009', '06/30/2009', '09/30/2009', '12/31/2009',\n",
       "       '03/31/2010', '06/30/2010', '09/30/2010', '12/31/2010',\n",
       "       '03/31/2011', '06/30/2011', '09/30/2011', '12/31/2011',\n",
       "       '12/31/2013', '03/31/2014', '06/30/2014', '09/30/2014',\n",
       "       '12/31/2014', '03/31/2015', '06/30/2015', '09/30/2015',\n",
       "       '12/31/2015', '03/31/2016', '06/30/2016', '09/30/2016',\n",
       "       '12/31/2016', '03/31/2017', '03/31/2012', '06/30/2012',\n",
       "       '09/30/2012', '12/31/2012', '03/31/2013', '06/30/2013',\n",
       "       '09/30/2013', '01/31/2001', '04/30/2001', '07/31/2001',\n",
       "       '10/31/2001', '01/31/2002', '04/30/2002', '07/31/2002',\n",
       "       '10/31/2002', '01/31/2003', '04/30/2003', '07/31/2003',\n",
       "       '10/31/2003', '01/31/2004', '04/30/2004', '07/31/2004',\n",
       "       '10/31/2004', '01/31/2005', '04/30/2005', '07/31/2005',\n",
       "       '10/31/2005', '01/31/2006', '04/30/2006', '02/28/2001',\n",
       "       '05/31/2001', '08/31/2001', '11/30/2001', '02/28/2002',\n",
       "       '05/31/2002', '08/31/2002', '11/30/2002', '02/28/2003',\n",
       "       '05/31/2003', '08/31/2003', '11/30/2003', '02/29/2004',\n",
       "       '05/31/2004', '08/31/2004', '11/30/2004', '02/28/2005',\n",
       "       '05/31/2005', '08/31/2005', '11/30/2005', '02/28/2006',\n",
       "       '05/31/2006', '08/31/2006', '11/30/2006', '02/28/2007',\n",
       "       '05/31/2007', '08/31/2007', '11/30/2007', '02/29/2008',\n",
       "       '05/31/2008', '08/31/2008', '11/30/2008', '02/28/2009',\n",
       "       '05/31/2009', '08/31/2009', '11/30/2009', '02/28/2010',\n",
       "       '05/31/2010', '08/31/2010', '11/30/2010', '02/28/2011',\n",
       "       '05/31/2011', '08/31/2011', '11/30/2011', '02/29/2012',\n",
       "       '05/31/2012', '08/31/2012', '11/30/2012', '02/28/2013',\n",
       "       '05/31/2013', '07/31/2006', '10/31/2006', '01/31/2007',\n",
       "       '04/30/2007', '07/31/2007', '10/31/2007', '01/31/2008',\n",
       "       '04/30/2008', '07/31/2008', '10/31/2008', '01/31/2009',\n",
       "       '04/30/2009', '07/31/2009', '10/31/2009', '01/31/2010',\n",
       "       '04/30/2010', '07/31/2010', '10/31/2010', '01/31/2011',\n",
       "       '04/30/2011', '07/31/2011', '10/31/2011', '01/31/2012',\n",
       "       '04/30/2012', '07/31/2012', '10/31/2012', '01/31/2013',\n",
       "       '04/30/2013', '07/31/2013', '10/31/2013', '01/31/2014',\n",
       "       '04/30/2014', '07/31/2014', '10/31/2014', '01/31/2015',\n",
       "       '04/30/2015', '07/31/2015', '10/31/2015', '01/31/2016',\n",
       "       '04/30/2016', '07/31/2016', '10/31/2016', '01/31/2017',\n",
       "       '08/31/2013', '11/30/2013', '02/28/2014', '05/31/2014',\n",
       "       '08/31/2014', '11/30/2014', '02/28/2015', '05/31/2015',\n",
       "       '08/31/2015', '11/30/2015', '02/29/2016', '05/31/2016',\n",
       "       '08/31/2016', '11/30/2016', '02/28/2017'], dtype=object)"
      ]
     },
     "execution_count": 49,
     "metadata": {},
     "output_type": "execute_result"
    }
   ],
   "source": [
    "qtr_Mdata['mdate'].unique()"
   ]
  },
  {
   "cell_type": "code",
   "execution_count": 38,
   "metadata": {
    "collapsed": true
   },
   "outputs": [],
   "source": [
    "#Seperate date based on month & years and create quarters accordingly \n",
    "qtr_Mdata['Date'] = pd.to_datetime(qtr_Mdata['mdate'])\n",
    "qtr_Mdata['Month']= qtr_Mdata['Date'].dt.month\n",
    "qtr_Mdata['Year']=qtr_Mdata['Date'].dt.year\n",
    "\n",
    "qtr_Mdata['quarter']='4'\n"
   ]
  },
  {
   "cell_type": "code",
   "execution_count": 39,
   "metadata": {
    "collapsed": true
   },
   "outputs": [],
   "source": [
    "qtr_Mdata.loc[qtr_Mdata['Month']>9,\"quarter\"]=4\n",
    "qtr_Mdata.loc[(qtr_Mdata['Month']>6) & (qtr_Mdata['Month']<=9),\"quarter\"]=3\n",
    "qtr_Mdata.loc[(qtr_Mdata['Month']>3) & (qtr_Mdata['Month']<=6),\"quarter\"]=2\n",
    "qtr_Mdata.loc[(qtr_Mdata['Month'])<=3,\"quarter\"]=1"
   ]
  },
  {
   "cell_type": "code",
   "execution_count": 40,
   "metadata": {
    "collapsed": true
   },
   "outputs": [],
   "source": [
    "qtr_Mdata['gvkey'] = qtr_Mdata['gvkey'].astype(float)\n",
    "qtr_Mdata['quarter'] = qtr_Mdata['quarter'].astype(float)\n",
    "qtr_Mdata['Year'] = qtr_Mdata['Year'].astype(float)"
   ]
  },
  {
   "cell_type": "code",
   "execution_count": 41,
   "metadata": {},
   "outputs": [
    {
     "data": {
      "text/plain": [
       "0    1.0\n",
       "1    2.0\n",
       "2    3.0\n",
       "3    4.0\n",
       "4    1.0\n",
       "Name: quarter, dtype: float64"
      ]
     },
     "execution_count": 41,
     "metadata": {},
     "output_type": "execute_result"
    }
   ],
   "source": [
    "qtr_Mdata['quarter'].head()"
   ]
  },
  {
   "cell_type": "code",
   "execution_count": 42,
   "metadata": {
    "collapsed": true
   },
   "outputs": [],
   "source": [
    "data = pd.merge(cdsSpread_data[1:200], qtr_Mdata[1:200], on=['gvkey', 'quarter', 'Year'])"
   ]
  },
  {
   "cell_type": "code",
   "execution_count": 50,
   "metadata": {},
   "outputs": [],
   "source": [
    "#Use only numerical records \n",
    "numerics = ['int16', 'int32', 'int64', 'float16', 'float32', 'float64']\n",
    "data = data.select_dtypes(include=numerics)\n",
    "\n",
    "#Pre processing data: replace NA with median \n",
    "data=data.fillna(data.median())\n",
    "data=data.dropna(axis=1, how='any')\n",
    "\n",
    "#Split the dataset \n",
    "TestData = data[(data['Year'] >= 2010) & (data['Year'] <= 2018)]\n",
    "\n",
    "#Initialze X and Y\n",
    "X_test= TestData.drop('spread5y', axis=1)\n",
    "y_test=TestData['spread5y']\n",
    "\n",
    "X_test= X_test.drop('Month_x', axis=1)\n",
    "X_test= X_test.drop('Month_y', axis=1)\n",
    "X_test= X_test.drop('quarter', axis=1)\n",
    "X_test= X_test.drop('Year', axis=1)\n",
    "X_test= X_test.drop('gvkey', axis=1)\n",
    "\n",
    "TrainData=data[(data['Year'] < 2010)]\n",
    "\n",
    "#splitting x and y for test data\n",
    "X_train= TrainData.drop('spread5y', axis=1)\n",
    "y_train=TrainData['spread5y']\n",
    "X_train= X_train.drop('Month_x', axis=1)\n",
    "X_train= X_train.drop('Month_y', axis=1)\n",
    "X_train= X_train.drop('quarter', axis=1)\n",
    "X_train= X_train.drop('Year', axis=1)\n",
    "X_train= X_train.drop('gvkey', axis=1)"
   ]
  },
  {
   "cell_type": "code",
   "execution_count": 51,
   "metadata": {},
   "outputs": [],
   "source": [
    "randforst = RandomForestRegressor(n_estimators=50) \n",
    "randforst.fit(X_train, y_train)\n",
    "#randforst.score(X_test, y_test)\n",
    "randforst_Pred=randforst.predict(X_test)"
   ]
  },
  {
   "cell_type": "code",
   "execution_count": 57,
   "metadata": {},
   "outputs": [
    {
     "data": {
      "text/plain": [
       "41.23385672821293"
      ]
     },
     "execution_count": 57,
     "metadata": {},
     "output_type": "execute_result"
    }
   ],
   "source": [
    "F_imp=randforst.feature_importances_\n",
    "F_imp = pd.DataFrame(randforst.feature_importances_,index = X_train.columns,columns=['imp']).sort_values('imp',ascending=False)\n",
    "newfeatures=F_imp.iloc[:50,:]\n",
    "newfeatures=newfeatures.index.tolist()\n",
    "\n",
    "def mean_absolute_percentage_error(y_true, y_pred): \n",
    "    y_true, y_pred = np.array(y_true), np.array(y_pred)\n",
    "    return np.mean(np.abs((y_true - y_pred) / y_true)) * 100\n",
    "\n",
    "mean_squared_error(y_test,randforst_Pred)\n",
    "mean_absolute_percentage_error(y_test, randforst_Pred)\n"
   ]
  },
  {
   "cell_type": "code",
   "execution_count": 60,
   "metadata": {},
   "outputs": [
    {
     "name": "stdout",
     "output_type": "stream",
     "text": [
      "Mean Accuracy_100: -0.41954668676032436\n",
      "Accuracy_100: 61.67 %.\n"
     ]
    }
   ],
   "source": [
    "# Random Forest with 100 estimators \n",
    "newtrain_x = X_train[list(newfeatures)]\n",
    "newtest_x = X_test[list(newfeatures)]\n",
    "\n",
    "regressor_100 = RandomForestRegressor(n_estimators = 100,max_depth = 3)\n",
    "regressor_100.fit(newtrain_x,y_train)\n",
    "pred_100 = regressor_100.predict(newtest_x)\n",
    "print('Mean Accuracy_100:', regressor_100.score(newtest_x,y_test))\n",
    "errors_100 = abs(pred_100 - y_test)\n",
    "mape_100 = 100 * (errors_100 / y_test)\n",
    "# Calculate and display accuracy\n",
    "accuracy_100 = 100 - np.mean(mape_100)\n",
    "print('Accuracy_100:', round(accuracy_100, 2), '%.')"
   ]
  },
  {
   "cell_type": "code",
   "execution_count": 61,
   "metadata": {},
   "outputs": [
    {
     "name": "stdout",
     "output_type": "stream",
     "text": [
      "Mean Accuracy_200: -0.3155484038252572\n",
      "Accuracy_200: 137.33 %.\n"
     ]
    }
   ],
   "source": [
    "# Random Forest with 200 estimators \n",
    "regressor_200 = RandomForestRegressor(n_estimators = 200,max_depth = 3)\n",
    "regressor_200.fit(newtrain_x,y_train)\n",
    "pred_200 = regressor_200.predict(newtest_x)\n",
    "print('Mean Accuracy_200:', regressor_200.score(newtest_x,y_test))\n",
    "errors_200 = abs(pred_200 - y_test)\n",
    "mape_200 = 200 * (errors_200 / y_test)\n",
    "# Calculate and display accuracy\n",
    "accuracy_200 = 200 - np.mean(mape_200)\n",
    "print('Accuracy_200:', round(accuracy_200, 2), '%.')"
   ]
  },
  {
   "cell_type": "code",
   "execution_count": 62,
   "metadata": {},
   "outputs": [
    {
     "name": "stdout",
     "output_type": "stream",
     "text": [
      "Mean Accuracy_500: -0.36143055015640124\n",
      "Accuracy_500: 333.21 %.\n"
     ]
    }
   ],
   "source": [
    "# Random Forest with 500 estimators \n",
    "regressor_500 = RandomForestRegressor(n_estimators = 500,max_depth = 3)\n",
    "regressor_500.fit(newtrain_x,y_train)\n",
    "pred_500 = regressor_500.predict(newtest_x)\n",
    "print('Mean Accuracy_500:', regressor_500.score(newtest_x,y_test))\n",
    "errors_500 = abs(pred_500 - y_test)\n",
    "mape_500 = 500 * (errors_500 / y_test)\n",
    "# Calculate and display accuracy\n",
    "accuracy_500 = 500 - np.mean(mape_500)\n",
    "print('Accuracy_500:', round(accuracy_500, 2), '%.')"
   ]
  },
  {
   "cell_type": "code",
   "execution_count": 63,
   "metadata": {},
   "outputs": [
    {
     "name": "stdout",
     "output_type": "stream",
     "text": [
      "Mean Accuracy_1000: -0.2905437252016432\n",
      "Accuracy_1000: 660.95 %.\n"
     ]
    }
   ],
   "source": [
    "# Random Forest with 1000 estimators \n",
    "regressor_1000 = RandomForestRegressor(n_estimators = 1000,max_depth = 3)\n",
    "regressor_1000.fit(newtrain_x,y_train)\n",
    "pred_1000 = regressor_1000.predict(newtest_x)\n",
    "print('Mean Accuracy_1000:', regressor_1000.score(newtest_x,y_test))\n",
    "errors_1000 = abs(pred_1000 - y_test)\n",
    "mape_1000 = 1000 * (errors_1000 / y_test)\n",
    "# Calculate and display accuracy\n",
    "accuracy_1000 = 1000 - np.mean(mape_1000)\n",
    "print('Accuracy_1000:', round(accuracy_1000, 2), '%.')"
   ]
  },
  {
   "cell_type": "code",
   "execution_count": 80,
   "metadata": {},
   "outputs": [],
   "source": [
    "from sklearn.ensemble import GradientBoostingRegressor \n",
    "from sklearn import ensemble\n",
    "from sklearn.metrics import mean_squared_error\n",
    "import xgboost"
   ]
  },
  {
   "cell_type": "code",
   "execution_count": 73,
   "metadata": {},
   "outputs": [
    {
     "name": "stdout",
     "output_type": "stream",
     "text": [
      "MSE_100: 0.0049\n"
     ]
    }
   ],
   "source": [
    "# Gradient Boost with 100 estimators \n",
    "GB_100 = ensemble.GradientBoostingRegressor(n_estimators = 100, max_depth = 3)\n",
    "GB_100.fit(newtrain_x, y_train)\n",
    "mse_100 = mean_squared_error(y_test, GB_100.predict(newtest_x))\n",
    "print(\"MSE_100: %.4f\" % mse_100)"
   ]
  },
  {
   "cell_type": "code",
   "execution_count": 74,
   "metadata": {},
   "outputs": [
    {
     "name": "stdout",
     "output_type": "stream",
     "text": [
      "MSE_200: 0.0048\n"
     ]
    }
   ],
   "source": [
    "# Gradient Boost with 200 estimators \n",
    "GB_200 = ensemble.GradientBoostingRegressor(n_estimators = 200, max_depth = 3)\n",
    "GB_200.fit(newtrain_x, y_train)\n",
    "mse_200 = mean_squared_error(y_test, GB_200.predict(newtest_x))\n",
    "print(\"MSE_200: %.4f\" % mse_200)"
   ]
  },
  {
   "cell_type": "code",
   "execution_count": 75,
   "metadata": {},
   "outputs": [
    {
     "name": "stdout",
     "output_type": "stream",
     "text": [
      "MSE_500: 0.0047\n"
     ]
    }
   ],
   "source": [
    "# Gradient Boost with 500 estimators \n",
    "GB_500 = ensemble.GradientBoostingRegressor(n_estimators = 500, max_depth = 3)\n",
    "GB_500.fit(newtrain_x, y_train)\n",
    "mse_500 = mean_squared_error(y_test, GB_500.predict(newtest_x))\n",
    "print(\"MSE_500: %.4f\" % mse_500)"
   ]
  },
  {
   "cell_type": "code",
   "execution_count": 76,
   "metadata": {},
   "outputs": [
    {
     "name": "stdout",
     "output_type": "stream",
     "text": [
      "MSE_1000: 0.0044\n"
     ]
    }
   ],
   "source": [
    "# Gradient Boost with 1000 estimators \n",
    "GB_1000 = ensemble.GradientBoostingRegressor(n_estimators = 1000, max_depth = 3)\n",
    "GB_1000.fit(newtrain_x, y_train)\n",
    "mse_1000 = mean_squared_error(y_test, GB_1000.predict(newtest_x))\n",
    "print(\"MSE_1000: %.4f\" % mse_1000)\n"
   ]
  },
  {
   "cell_type": "code",
   "execution_count": 81,
   "metadata": {},
   "outputs": [
    {
     "name": "stdout",
     "output_type": "stream",
     "text": [
      "xgbMSE1: 0.0044\n"
     ]
    }
   ],
   "source": [
    "# XG Boost with 100 estimators \n",
    "xgb_100 = xgboost.XGBRegressor(n_estimators=100, learning_rate=0.1, max_depth=3)\n",
    "xgb_100.fit(newtrain_x, y_train)\n",
    "xgbmse_100 = mean_squared_error(y_test, xgb_100.predict(newtest_x))\n",
    "print(\"xgbMSE1: %.4f\" % xgbmse_100)"
   ]
  },
  {
   "cell_type": "code",
   "execution_count": 82,
   "metadata": {},
   "outputs": [
    {
     "name": "stdout",
     "output_type": "stream",
     "text": [
      "xgbMSE1: 0.0044\n"
     ]
    }
   ],
   "source": [
    "# XG Boost with 200 estimators \n",
    "xgb_200 = xgboost.XGBRegressor(n_estimators=200, learning_rate=0.1, max_depth=3)\n",
    "xgb_200.fit(newtrain_x, y_train)\n",
    "xgbmse_200 = mean_squared_error(y_test, xgb_200.predict(newtest_x))\n",
    "print(\"xgbMSE1: %.4f\" % xgbmse_200)"
   ]
  },
  {
   "cell_type": "code",
   "execution_count": 83,
   "metadata": {},
   "outputs": [
    {
     "name": "stdout",
     "output_type": "stream",
     "text": [
      "xgbMSE1: 0.0044\n"
     ]
    }
   ],
   "source": [
    "# XG Boost with 500 estimators \n",
    "xgb_500 = xgboost.XGBRegressor(n_estimators=500, learning_rate=0.1, max_depth=3)\n",
    "xgb_500.fit(newtrain_x, y_train)\n",
    "xgbmse_500 = mean_squared_error(y_test, xgb_500.predict(newtest_x))\n",
    "print(\"xgbMSE1: %.4f\" % xgbmse_500)"
   ]
  },
  {
   "cell_type": "code",
   "execution_count": 84,
   "metadata": {},
   "outputs": [
    {
     "name": "stdout",
     "output_type": "stream",
     "text": [
      "xgbMSE1: 0.0044\n"
     ]
    }
   ],
   "source": [
    "# XG Boost with 1000 estimators \n",
    "xgb_1000 = xgboost.XGBRegressor(n_estimators=1000, learning_rate=0.1, max_depth=3)\n",
    "xgb_1000.fit(newtrain_x, y_train)\n",
    "xgbmse_1000 = mean_squared_error(y_test, xgb_1000.predict(newtest_x))\n",
    "print(\"xgbMSE1: %.4f\" % xgbmse_1000)"
   ]
  },
  {
   "cell_type": "code",
   "execution_count": null,
   "metadata": {
    "collapsed": true
   },
   "outputs": [],
   "source": []
  }
 ],
 "metadata": {
  "kernelspec": {
   "display_name": "Python 3",
   "language": "python",
   "name": "python3"
  },
  "language_info": {
   "codemirror_mode": {
    "name": "ipython",
    "version": 3
   },
   "file_extension": ".py",
   "mimetype": "text/x-python",
   "name": "python",
   "nbconvert_exporter": "python",
   "pygments_lexer": "ipython3",
   "version": "3.6.3"
  }
 },
 "nbformat": 4,
 "nbformat_minor": 2
}
